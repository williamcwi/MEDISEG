{
 "cells": [
  {
   "cell_type": "markdown",
   "metadata": {},
   "source": [
    "# Before you start\n",
    "Make sure we have access to GPU. We can use `nvidia-smi` command to do that. "
   ]
  },
  {
   "cell_type": "code",
   "execution_count": null,
   "metadata": {},
   "outputs": [],
   "source": [
    "!nvidia-smi"
   ]
  },
  {
   "cell_type": "code",
   "execution_count": null,
   "metadata": {},
   "outputs": [],
   "source": [
    "import os\n",
    "ROOT_DIR = os.path.abspath('./')\n",
    "DATASET_DIR = os.path.join(ROOT_DIR, 'dataset')\n",
    "RUN_DIR = os.path.join(ROOT_DIR, 'transfer', '3-pills-noaug')"
   ]
  },
  {
   "cell_type": "markdown",
   "metadata": {},
   "source": [
    "# Check YOLOv8 installation"
   ]
  },
  {
   "cell_type": "code",
   "execution_count": null,
   "metadata": {},
   "outputs": [],
   "source": [
    "from IPython import display\n",
    "display.clear_output()\n",
    "\n",
    "import ultralytics\n",
    "ultralytics.checks()"
   ]
  },
  {
   "cell_type": "code",
   "execution_count": null,
   "metadata": {},
   "outputs": [],
   "source": [
    "from ultralytics import YOLO\n",
    "from IPython.display import display, Image"
   ]
  },
  {
   "cell_type": "markdown",
   "metadata": {},
   "source": [
    "# Initialise Comet"
   ]
  },
  {
   "cell_type": "code",
   "execution_count": null,
   "metadata": {},
   "outputs": [],
   "source": [
    "COMET_API_KEY = 'comet_api'\n",
    "PROJECT = '3-pills'\n",
    "WORKSPACE = 'pills-recognition'"
   ]
  },
  {
   "cell_type": "code",
   "execution_count": null,
   "metadata": {},
   "outputs": [],
   "source": [
    "from comet_ml import Experiment\n",
    "from comet_ml.integration.pytorch import log_model\n",
    "\n",
    "## Create an experiment with your api key\n",
    "experiment = Experiment(\n",
    "    api_key=COMET_API_KEY,\n",
    "    project_name=PROJECT,\n",
    "    workspace=WORKSPACE,\n",
    "    log_code=True,\n",
    "    log_graph=True\n",
    ")"
   ]
  },
  {
   "cell_type": "markdown",
   "metadata": {},
   "source": [
    "# Train on custom 3-pills dataset"
   ]
  },
  {
   "cell_type": "code",
   "execution_count": null,
   "metadata": {},
   "outputs": [],
   "source": [
    "# download dataset from roboflow\n",
    "\n",
    "from roboflow import Roboflow\n",
    "rf = Roboflow(api_key=\"roboflow_api\")\n",
    "project = rf.workspace(\"-\").project(\"-\")\n",
    "version = project.version(1)\n",
    "dataset = version.download(\"yolov8\")\n"
   ]
  },
  {
   "cell_type": "markdown",
   "metadata": {},
   "source": [
    "# Hyperparameter Tuning"
   ]
  },
  {
   "cell_type": "code",
   "execution_count": null,
   "metadata": {},
   "outputs": [],
   "source": [
    "# Initialise the YOLO model\n",
    "model = YOLO('yolov8n.pt')\n",
    "\n",
    "# Tune hyperparameters for 30 epochs 300 iterations\n",
    "model.tune(\n",
    "    data=os.path.join(DATASET_DIR, 'data.yaml'),\n",
    "    epochs=30,\n",
    "    iterations=300,\n",
    "    optimizer='AdamW',\n",
    "    plots=False,\n",
    "    save=False,\n",
    "    val=False,\n",
    "    lr0=0.00841,\n",
    "    lrf=0.0133,\n",
    "    momentum=0.94996,\n",
    "    weight_decay=0.00053,\n",
    "    warmup_epochs=2.4783,\n",
    "    warmup_momentum=0.88646,\n",
    "    box=7.85252,\n",
    "    cls=0.70948,\n",
    "    dfl=1.44185,\n",
    "    hsv_h=0.01481,\n",
    "    hsv_s=0.7905,\n",
    "    hsv_v=0.41703,\n",
    "    degrees=0.0,\n",
    "    translate=0.08783,\n",
    "    scale=0.44492,\n",
    "    shear=0.0,\n",
    "    perspective=0.0,\n",
    "    flipud=0.0,\n",
    "    fliplr=0.63125,\n",
    "    mosaic=1.0,\n",
    "    mixup=0.0,\n",
    "    copy_paste=0.0\n",
    ")"
   ]
  },
  {
   "cell_type": "markdown",
   "metadata": {},
   "source": [
    "## CLI"
   ]
  },
  {
   "cell_type": "code",
   "execution_count": null,
   "metadata": {},
   "outputs": [],
   "source": [
    "!yolo task=detect \\\n",
    "mode=train \\\n",
    "model=yolov8s.pt \\\n",
    "data=path_to_data.yaml \\\n",
    "epochs=100 \\\n",
    "imgsz=256 \\\n",
    "lr0=0.00994 \\\n",
    "lrf=0.00915 \\\n",
    "momentum=0.919 \\\n",
    "weight_decay=0.00051 \\\n",
    "warmup_epochs=3.0 \\\n",
    "warmup_momentum=0.8 \\\n",
    "box=6.58183 \\\n",
    "cls=0.5228 \\\n",
    "dfl=1.62759 \\\n",
    "hsv_h=0.01385 \\\n",
    "hsv_s=0.71988 \\\n",
    "hsv_v=0.41728 \\\n",
    "degrees=0.0 \\\n",
    "translate=0.09693 \\\n",
    "scale=0.47275 \\\n",
    "shear=0.0 \\\n",
    "perspective=0.0 \\\n",
    "flipud=0.0 \\\n",
    "fliplr=0.5 \\\n",
    "mosaic=1.0 \\\n",
    "mixup=0.0 \\\n",
    "copy_paste=0.0"
   ]
  },
  {
   "cell_type": "markdown",
   "metadata": {},
   "source": [
    "## Python"
   ]
  },
  {
   "cell_type": "code",
   "execution_count": null,
   "metadata": {},
   "outputs": [],
   "source": [
    "PROJECT = 'mediseg_32pills_aug'"
   ]
  },
  {
   "cell_type": "code",
   "execution_count": null,
   "metadata": {},
   "outputs": [],
   "source": [
    "# load a pretrained model\n",
    "model = YOLO('yolov9e.pt') # yolov8n.pt, yolov8s.pt, yolov8m.pt, yolov8l.pt, yolov8x.pt\n",
    "# model = YOLO('yolov8n.yaml')  # build a new model from YAML\n",
    "\n",
    "# Train the model\n",
    "results = model.train(\n",
    "    data = os.path.join(DATASET_DIR, 'data.yaml'), \n",
    "    project = PROJECT, \n",
    "    epochs = 20, \n",
    "    patience = 5,\n",
    "    save_period=1,\n",
    "    save_json=True,\n",
    "    imgsz = 256,\n",
    "    lr0 = 0.00717,\n",
    "    lrf = 0.01509,\n",
    "    momentum = 0.90096,\n",
    "    weight_decay = 0.00059,\n",
    "    warmup_epochs = 2.51764,\n",
    "    warmup_momentum = 0.83182,\n",
    "    box = 6.61607,\n",
    "    cls = 0.95173,\n",
    "    dfl = 1.13263,\n",
    "    hsv_h = 0.0155,\n",
    "    hsv_s = 0.89727,\n",
    "    hsv_v = 0.42929,\n",
    "    degrees = 0.0,\n",
    "    translate = 0.10899,\n",
    "    scale = 0.28515,\n",
    "    shear = 0.0,\n",
    "    perspective = 0.0,\n",
    "    flipud = 0.0,\n",
    "    fliplr = 0.62413,\n",
    "    mosaic = 0.89009,\n",
    "    mixup = 0.0,\n",
    "    copy_paste = 0.0\n",
    ")\n",
    "\n",
    "# # Train the model\n",
    "# results = model.train(\n",
    "#     data = os.path.join(DATASET_DIR, 'data.yaml'), \n",
    "#     project = PROJECT, \n",
    "#     epochs = 20, \n",
    "#     patience = 5,\n",
    "#     save_period=1,\n",
    "#     save_json=True,\n",
    "#     imgsz = 256,\n",
    "#     lr0 = 0.00717,\n",
    "#     lrf = 0.01509,\n",
    "#     momentum = 0.90096,\n",
    "#     weight_decay = 0.00059,\n",
    "#     warmup_epochs = 2.51764,\n",
    "#     warmup_momentum = 0.83182,\n",
    "#     box = 6.61607,\n",
    "#     cls = 0.95173,\n",
    "#     dfl = 1.13263,\n",
    "#     hsv_h = 0.0,\n",
    "#     hsv_s = 0.0,\n",
    "#     hsv_v = 0.0,\n",
    "#     degrees = 0.0,\n",
    "#     translate = 0.0,\n",
    "#     scale = 0.0,\n",
    "#     shear = 0.0,\n",
    "#     perspective = 0.0,\n",
    "#     flipud = 0.0,\n",
    "#     fliplr = 0.0,\n",
    "#     mosaic = 0.0,\n",
    "#     mixup = 0.0,\n",
    "#     copy_paste = 0.0\n",
    "# )\n"
   ]
  },
  {
   "cell_type": "markdown",
   "metadata": {},
   "source": [
    "# Prediction"
   ]
  },
  {
   "cell_type": "code",
   "execution_count": null,
   "metadata": {},
   "outputs": [],
   "source": [
    "# Load the best model\n",
    "best_model = YOLO(os.path.join(RUN_DIR, 'train', 'weights', 'best.pt'))\n",
    "\n",
    "test_path = os.path.join(DATASET_DIR, 'test', 'images')\n",
    "\n",
    "# Make predictions on the test set\n",
    "test_results = best_model.predict(\n",
    "    source=test_path,  # Directory containing test images\n",
    "    imgsz=256,  # Image size\n",
    "    save_txt=True,  # Save results to text file\n",
    "    save_conf=True,  # Save confidences in --save-txt labels\n",
    "    save_dir=os.path.join(RUN_DIR, 'train8', 'predict')  # Directory to save results\n",
    ")\n",
    "\n",
    "import shutil\n",
    "\n",
    "# Define the source and destination directories\n",
    "source_dir = 'runs/detect/predict'\n",
    "destination_dir = os.path.join('3-pills', 'train', 'predict')\n",
    "\n",
    "# Create the destination directory if it doesn't exist\n",
    "os.makedirs(destination_dir, exist_ok=True)\n",
    "\n",
    "# Move files from the source to the destination\n",
    "for filename in os.listdir(source_dir):\n",
    "    src_file = os.path.join(source_dir, filename)\n",
    "    dst_file = os.path.join(destination_dir, filename)\n",
    "    shutil.move(src_file, dst_file)\n",
    "\n",
    "# Delete the source directory\n",
    "shutil.rmtree(source_dir)"
   ]
  },
  {
   "cell_type": "markdown",
   "metadata": {},
   "source": [
    "# End Comet"
   ]
  },
  {
   "cell_type": "code",
   "execution_count": null,
   "metadata": {},
   "outputs": [],
   "source": [
    "experiment.end()"
   ]
  }
 ],
 "metadata": {
  "kernelspec": {
   "display_name": "Python 3",
   "language": "python",
   "name": "python3"
  },
  "language_info": {
   "codemirror_mode": {
    "name": "ipython",
    "version": 3
   },
   "file_extension": ".py",
   "mimetype": "text/x-python",
   "name": "python",
   "nbconvert_exporter": "python",
   "pygments_lexer": "ipython3",
   "version": "3.11.6"
  }
 },
 "nbformat": 4,
 "nbformat_minor": 2
}
